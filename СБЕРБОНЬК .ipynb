{
 "cells": [
  {
   "cell_type": "code",
   "execution_count": null,
   "id": "eaef5be9",
   "metadata": {},
   "outputs": [],
   "source": []
  },
  {
   "cell_type": "code",
   "execution_count": 2,
   "id": "80e2fc2b",
   "metadata": {},
   "outputs": [
    {
     "name": "stderr",
     "output_type": "stream",
     "text": [
      "usage: ipykernel_launcher.py [-h] month year\n",
      "ipykernel_launcher.py: error: the following arguments are required: year\n"
     ]
    },
    {
     "ename": "SystemExit",
     "evalue": "2",
     "output_type": "error",
     "traceback": [
      "An exception has occurred, use %tb to see the full traceback.\n",
      "\u001b[1;31mSystemExit\u001b[0m\u001b[1;31m:\u001b[0m 2\n"
     ]
    }
   ],
   "source": [
    "import seaborn as sns\n",
    "import pandas as pd\n",
    "import matplotlib.pyplot as plt\n",
    "import numpy as np\n",
    "import argparse\n",
    "\n",
    "\n",
    "parser = argparse.ArgumentParser()\n",
    "parser.add_argument('month', type=str)\n",
    "parser.add_argument('year', type=str)\n",
    "args = parser.parse_args()\n",
    "\n",
    "month = args.month\n",
    "year = args.year\n",
    "if month < 1 or month > 12:\n",
    "    raise ValueError('month gavno')\n",
    "if len(str(year)) < 4:\n",
    "    raise ValueError('year gavno')\n",
    "outcome_data = pd.read_excel(f\"outcome_{month}.2024.xlsx\")\n",
    "outcome_data\n",
    "\n",
    "\n",
    "\n",
    "outcome_data[\"День\"] = [int(x.split()[0]) for x in outcome_data[\"Дата\"]]\n",
    "outcome_data\n",
    "\n",
    "\n",
    "\n",
    "fig, ax = plt.subplots(constrained_layout=True)\n",
    "sns.lineplot(\n",
    "    data=outcome_data,\n",
    "    x=\"День\",\n",
    "    y=\"Сумма\",\n",
    "    hue=\"Категория\",\n",
    "    ax=ax\n",
    ")\n",
    "ax.legend()\n",
    "plt.show()\n",
    "\n",
    "\n",
    "\n",
    "fig, ax = plt.subplots(constrained_layout=True)\n",
    "plt.title(f'{month}.{year}')\n",
    "sns.barplot(\n",
    "\n",
    "    data=outcome_data,\n",
    "    x=\"Сумма\",\n",
    "    y=\"Категория\",\n",
    "    orient = \"h\",\n",
    "    estimator=\"sum\",\n",
    "    errorbar=None,\n",
    "    ax=ax\n",
    ")\n",
    "plt.show()"
   ]
  },
  {
   "cell_type": "code",
   "execution_count": null,
   "id": "2ccaa53d",
   "metadata": {},
   "outputs": [],
   "source": []
  }
 ],
 "metadata": {
  "kernelspec": {
   "display_name": "Python 3 (ipykernel)",
   "language": "python",
   "name": "python3"
  },
  "language_info": {
   "codemirror_mode": {
    "name": "ipython",
    "version": 3
   },
   "file_extension": ".py",
   "mimetype": "text/x-python",
   "name": "python",
   "nbconvert_exporter": "python",
   "pygments_lexer": "ipython3",
   "version": "3.11.5"
  }
 },
 "nbformat": 4,
 "nbformat_minor": 5
}
